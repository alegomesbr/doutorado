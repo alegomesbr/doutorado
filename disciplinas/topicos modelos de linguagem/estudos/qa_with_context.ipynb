{
  "nbformat": 4,
  "nbformat_minor": 0,
  "metadata": {
    "colab": {
      "provenance": []
    },
    "kernelspec": {
      "name": "python3",
      "display_name": "Python 3"
    },
    "language_info": {
      "name": "python"
    }
  },
  "cells": [
    {
      "cell_type": "code",
      "source": [
        "from transformers import pipeline"
      ],
      "metadata": {
        "id": "Lc1bUZYf40QS"
      },
      "execution_count": 1,
      "outputs": []
    },
    {
      "cell_type": "markdown",
      "source": [
        "**exemplo 1: resposta certa**"
      ],
      "metadata": {
        "id": "elYUBhOE43vg"
      }
    },
    {
      "cell_type": "code",
      "execution_count": 2,
      "metadata": {
        "colab": {
          "base_uri": "https://localhost:8080/"
        },
        "id": "_QjU0J7H5HYV",
        "outputId": "9079e6e2-2396-4b68-96b3-9cd152de3fbe"
      },
      "outputs": [
        {
          "output_type": "stream",
          "name": "stderr",
          "text": [
            "No model was supplied, defaulted to distilbert/distilbert-base-cased-distilled-squad and revision 564e9b5 (https://huggingface.co/distilbert/distilbert-base-cased-distilled-squad).\n",
            "Using a pipeline without specifying a model name and revision in production is not recommended.\n",
            "/usr/local/lib/python3.10/dist-packages/huggingface_hub/utils/_auth.py:94: UserWarning: \n",
            "The secret `HF_TOKEN` does not exist in your Colab secrets.\n",
            "To authenticate with the Hugging Face Hub, create a token in your settings tab (https://huggingface.co/settings/tokens), set it as secret in your Google Colab and restart your session.\n",
            "You will be able to reuse this secret in all of your notebooks.\n",
            "Please note that authentication is recommended but still optional to access public models or datasets.\n",
            "  warnings.warn(\n"
          ]
        },
        {
          "output_type": "execute_result",
          "data": {
            "text/plain": [
              "{'score': 0.90494304895401,\n",
              " 'start': 27,\n",
              " 'end': 56,\n",
              " 'answer': 'Fluminense Federal University'}"
            ]
          },
          "metadata": {},
          "execution_count": 2
        }
      ],
      "source": [
        "#https://huggingface.co/tasks/question-answering\n",
        "\n",
        "qa_model = pipeline(\"question-answering\")\n",
        "context = \"Niteroi is the seat of the Fluminense Federal University, one of the most important research centers in Brazil.\"\n",
        "question = \"What is the name of the university located in Niterói?\"\n",
        "qa_model(question = question, context = context)"
      ]
    },
    {
      "cell_type": "markdown",
      "source": [
        "**exemplo 2: teste de ideia de conversão tabela - text. resposta errada**"
      ],
      "metadata": {
        "id": "z6JMxION48R1"
      }
    },
    {
      "cell_type": "code",
      "source": [
        "context = \"Food Name: Kiwi | Total: 5. Food Name: Oat | Total: 3. Food Name: Broccoli | Total: 7. Food Name: Peanut | Total: 15\"\n",
        "question = \"Which food has total of 7?\"\n",
        "qa_model(question = question, context = context)"
      ],
      "metadata": {
        "colab": {
          "base_uri": "https://localhost:8080/"
        },
        "id": "OWm4zAMC5cX5",
        "outputId": "fb0b3474-7c45-4d16-8976-af8b75fe1daf"
      },
      "execution_count": 3,
      "outputs": [
        {
          "output_type": "execute_result",
          "data": {
            "text/plain": [
              "{'score': 0.6234473586082458, 'start': 98, 'end': 104, 'answer': 'Peanut'}"
            ]
          },
          "metadata": {},
          "execution_count": 3
        }
      ]
    }
  ]
}